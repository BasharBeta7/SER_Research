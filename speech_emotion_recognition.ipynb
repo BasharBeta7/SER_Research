{
 "cells": [
  {
   "cell_type": "markdown",
   "metadata": {},
   "source": [
    "# this notebook contains the following sections :\n",
    "## 1. prepare dataset for speech emotion recognition \n",
    "## 2. build a transformer encoder classifier\n",
    "## 3. training the model on initial hyperparameters"
   ]
  },
  {
   "cell_type": "markdown",
   "metadata": {},
   "source": [
    "## section 1: prepare the dataset\n",
    "we will use a famous dataset [IEMOCAP] for speech emotion recognition in order to assess the performance of our model, and then we try to fine-tune it on the actual final dataset.\n",
    "[IEMOCAP] consists of 5 acted sessions of speech, each including a range of 9 emotions, in a total of 12 hours of speech, divided into sentences (each of 3 seconds max).\n",
    "each sentence is annotated by experts and clissified into one of many emotions : anger, happiness, sadness, neutral ..\n",
    " \n",
    " first, we will prepare folder tree, we implement this by copying necessary audio files (sentences) from the dataset into a specified directory (TARGET_PATH). folder tree is as follows:\n",
    "    \n",
    "    root:\n",
    "    ---- /IEMOCAP\n",
    "    ---- ---- /Session1\n",
    "    ---- ---- ---- /EmoEval\n",
    "    ---- ---- ---- /Sentences\n",
    "    ---- ---- /Session2\n",
    "    ---- ---- ---- /EmoEval\n",
    "    ---- ---- ---- /Sentences\n",
    "    ---- ---- /Session3\n",
    "    ---- ---- ---- /EmoEval\n",
    "    ---- ---- ---- /Sentences\n",
    "    ---- ---- /Session4\n",
    "    ---- ---- ---- /EmoEval\n",
    "    ---- ---- ---- /Sentences\n",
    "    ---- ---- /Session5\n",
    "    ---- ---- ---- /EmoEval\n",
    "    ---- ---- ---- /Sentences\n",
    "\n",
    "    "
   ]
  },
  {
   "cell_type": "code",
   "execution_count": 40,
   "metadata": {},
   "outputs": [],
   "source": [
    "#first we need to import all necessary packages\n",
    "\n",
    "import json\n",
    "import os\n",
    "import re\n",
    "import tqdm\n",
    "import shutil\n",
    "import librosa\n",
    "import torchaudio\n",
    "from torch.utils.data import Dataset, DataLoader\n",
    "import numpy as np\n",
    "import torch\n",
    "import torch.nn as nn\n",
    "from torchsummary import summary\n",
    "import torch.utils.data as torchdata \n",
    "import torch.optim\n",
    "import torch.nn.functional as F\n",
    "import time \n",
    "from tqdm.auto import tqdm\n",
    "from torch.utils.tensorboard import SummaryWriter\n",
    "import matplotlib.pyplot as plt\n",
    "\n",
    "\n",
    "#constant files are global UPPERCASE\n",
    "TARGET_PATH = \"../Datasets/IEMOCAP\"\n",
    "SRC_PATH = \"../Datasets/IEMOCAP_full_release\"\n",
    "\n",
    "def prepare_directory(src_dataset, trg_dataset):\n",
    "    \"\"\"\n",
    "    prepare dataset_folder as folllow:\n",
    "    trg_dataset contains 5 sessions, each session folder containes 2 subfolders : EmoEval, Sentences\n",
    "    - EmoEval has the values of (filename, emotion label)\n",
    "    - Sentences containes the .wav files \n",
    "    \"\"\"\n",
    "    os.makedirs(trg_dataset, exist_ok=True)\n",
    "    for dir_path, dir_names, filenames in os.walk(src_dataset):\n",
    "        folder_names = dir_path.split(sep=\"/\")\n",
    "        \n",
    "        if folder_names[-1] == \"EmoEvaluation\":\n",
    "            for file in filenames:\n",
    "                target_path = os.path.join(trg_dataset,folder_names[-3],\"EmoEval\")\n",
    "                os.makedirs(target_path, exist_ok=True)\n",
    "                current_path = os.path.join(dir_path, file)\n",
    "                shutil.copy(current_path, target_path)\n",
    "                \n",
    "                \n",
    "        if folder_names[-2] == \"sentences\" and folder_names[-1] == 'wav':\n",
    "            target_path = os.path.join(trg_dataset,folder_names[-3],\"Sentences\")\n",
    "            for d in dir_names:\n",
    "                current_path = os.path.join(dir_path, d)\n",
    "                shutil.copytree(current_path, target_path, symlinks=False, ignore=None, ignore_dangling_symlinks=False, dirs_exist_ok=True)\n",
    "\n",
    "    \n",
    "prepare_directory(SRC_PATH, TARGET_PATH)"
   ]
  },
  {
   "cell_type": "markdown",
   "metadata": {},
   "source": [
    " 9 target classification were recorded in the dataset, first we will enumerate them to get a dictionary {emotion : label }"
   ]
  },
  {
   "cell_type": "code",
   "execution_count": 41,
   "metadata": {},
   "outputs": [],
   "source": [
    "y = \"angry, happy, sad, neutral, frustrated, excited, fearful, disgusted, other\".split(\",\")\n",
    "y = sorted(y)\n",
    "y = [i.strip() for i in y]\n",
    "x = [f[0:3] for f in y]\n",
    "x = dict.fromkeys(x)\n",
    "for i, j in enumerate(x.keys()):\n",
    "    x[j] = i\n",
    "    \n",
    "label_index = x\n"
   ]
  },
  {
   "cell_type": "code",
   "execution_count": 43,
   "metadata": {},
   "outputs": [
    {
     "name": "stderr",
     "output_type": "stream",
     "text": [
      "Reading Folder: ../Datasets/IEMOCAP/Session3/EmoEval: 100%|█████████████████████████████████████████████████| 32/32 [00:01<00:00, 19.29it/s]\n",
      "Reading Folder: ../Datasets/IEMOCAP/Session5/EmoEval:   6%|███▏                                              | 2/31 [00:00<00:01, 19.37it/s]/tmp/ipykernel_12354/570616211.py:42: UserWarning: PySoundFile failed. Trying audioread instead.\n",
      "  librosa.load(track_path)\n",
      "Reading Folder: ../Datasets/IEMOCAP/Session5/EmoEval: 100%|█████████████████████████████████████████████████| 31/31 [00:01<00:00, 22.88it/s]\n",
      "Reading Folder: ../Datasets/IEMOCAP/Session4/EmoEval: 100%|█████████████████████████████████████████████████| 30/30 [00:01<00:00, 19.59it/s]\n",
      "Reading Folder: ../Datasets/IEMOCAP/Session1/EmoEval: 100%|█████████████████████████████████████████████████| 28/28 [00:01<00:00, 19.66it/s]\n",
      "Reading Folder: ../Datasets/IEMOCAP/Session2/EmoEval: 100%|█████████████████████████████████████████████████| 30/30 [00:01<00:00, 20.37it/s]"
     ]
    },
    {
     "name": "stdout",
     "output_type": "stream",
     "text": [
      "output location: ../Datasets/IEMOCAP/json/data.json\n"
     ]
    },
    {
     "name": "stderr",
     "output_type": "stream",
     "text": [
      "\n"
     ]
    }
   ],
   "source": [
    "#prepare json file that stores filenames, genders, and labels from all sessions of the dataset\n",
    "\n",
    "\n",
    "ROOT_PATH = \"../Datasets/IEMOCAP\"\n",
    "JSON_PATH = \"../Datasets/IEMOCAP/json/data.json\"\n",
    "\n",
    "\n",
    "def prepare_json(src_path, trg_path):\n",
    "    '''read dataset folder to extract a json file containing the filenames, gender, and label of each sentence'''\n",
    "        \n",
    "    \n",
    "    global filenames_labels\n",
    "    filenames_labels = {\n",
    "        \"filenames\" : [],\n",
    "        \"genders\" : [],\n",
    "        \"labels\" : []\n",
    "    }\n",
    "    \n",
    "    \n",
    "    for dir_path, dir_names, filenames in os.walk(src_path):\n",
    "        # if current dir is Session_i      \n",
    "        folder_names = dir_path.split(sep=\"/\")\n",
    "        if folder_names[-1] == \"EmoEval\":\n",
    "            for f in tqdm.tqdm(filenames, desc=\"Reading Folder: {}\".format(dir_path), ncols=140):\n",
    "                if f.split(\".\")[-1] == \"txt\":\n",
    "                    current_path = os.path.join(dir_path, f)\n",
    "                    with open(current_path, \"r\") as fr:\n",
    "                        for l in fr:\n",
    "                            reg = re.findall(\"\\[\\d+.\\d+ \\- \\d+.\\d+\\]\", l)\n",
    "                            \n",
    "                            if reg is not None:\n",
    "                                splits = l.split()\n",
    "                                if len(splits) < 5:\n",
    "                                    continue\n",
    "                                sentence_path = splits[3]\n",
    "                                emo = splits[4]\n",
    "                                \n",
    "                                if emo in label_index:\n",
    "                                    track_path = os.path.join(dir_path, '../Sentences', sentence_path + \".wav\")\n",
    "                                  \n",
    "                                    try:\n",
    "                                        librosa.load(track_path)\n",
    "                                        filenames_labels[\"filenames\"].append(track_path)\n",
    "                                        filenames_labels[\"genders\"].append(sentence_path[-4])\n",
    "                                        filenames_labels[\"labels\"].append(label_index[emo])\n",
    "                                    except:\n",
    "                                         pass\n",
    "                                \n",
    "        if dir_path.split(sep=\"/\")[-1][:-1] == \"Session\" :\n",
    "            session_number = dir_path.split(sep=\"/\")[-1][-1]\n",
    "            current_path = os.path.join(dir_path, 'dialog/EmoEvaluation/Categorical')\n",
    "    \n",
    "    os.makedirs(os.path.dirname(track_path), exist_ok=True)\n",
    "    os.makedirs(os.path.dirname(trg_path), exist_ok=True)\n",
    "    with open(trg_path, 'w+') as fp:\n",
    "        json.dump(filenames_labels, fp, indent=4)\n",
    "    \n",
    "    \n",
    "    print(\"output location: {}\".format(trg_path))\n",
    "    return filenames_labels[\"labels\"]\n",
    "        \n",
    "\n",
    "    \n",
    "files = prepare_json(ROOT_PATH, JSON_PATH)\n",
    "\n"
   ]
  },
  {
   "cell_type": "markdown",
   "metadata": {},
   "source": [
    "now we have our json file, which contains filepaths and labels of each audio segment"
   ]
  },
  {
   "cell_type": "code",
   "execution_count": 47,
   "metadata": {},
   "outputs": [
    {
     "data": {
      "text/plain": [
       "7135"
      ]
     },
     "execution_count": 47,
     "metadata": {},
     "output_type": "execute_result"
    }
   ],
   "source": [
    "assert len(files) > 0, print('json file is empty!') # to make sure that everything is fine \n",
    "len(files)"
   ]
  },
  {
   "cell_type": "markdown",
   "metadata": {},
   "source": [
    "### - feature extraction:\n",
    "\n",
    "numerous options can be used as features for audio signals, such as MFCC, mel-bins, Delta_MFCC, Spectogram .. \n",
    "we can experiment with different features after building the model. For now we will implement two feature-extracting functions: \n",
    "1. extracts MFCC + Delta_MFCC for a total of 26-dim features vector for each stride of audio\n",
    "(def 'extract_MFCC_delta'). \n",
    "2. extracts mel-bins features for a total of 64-dim feature vector for each strided of audio\n",
    "(def 'extract_mel_bins')\n",
    "\n",
    "\n",
    "\n"
   ]
  },
  {
   "cell_type": "markdown",
   "metadata": {},
   "source": [
    "audio data preprocessing consists of : voice activity detection to remove silences from beginning and end of each audio utterance. then data-segmenting to obtain fixed-length audio utterances as inputs. Each utterance is windowed into many segments "
   ]
  },
  {
   "cell_type": "markdown",
   "metadata": {},
   "source": [
    "we will adapt similar approach to : \n",
    "@ARTICLE{gong_psla, \n",
    "    author={Gong, Yuan and Chung, Yu-An and Glass, James},  \n",
    "    journal={IEEE/ACM Transactions on Audio, Speech, and Language Processing},   \n",
    "    title={PSLA: Improving Audio Tagging with Pretraining, Sampling, Labeling, and Aggregation},   \n",
    "    year={2021}, \n",
    "    doi={10.1109/TASLP.2021.3120633}\n",
    "}"
   ]
  },
  {
   "cell_type": "markdown",
   "metadata": {},
   "source": []
  },
  {
   "cell_type": "code",
   "execution_count": 46,
   "metadata": {},
   "outputs": [],
   "source": [
    "def extract_MFCC_delta(waveform, sr, win_size=0.025, stride=0.01, n_mfcc=13):\n",
    "    \"\"\"\n",
    "     extract 13 MFCC + 13 Delta_MFCC as low level descriptors \n",
    "    :param track_path: path of the audio track\n",
    "    :param win_size: length of the hamming window (in seconds)\n",
    "    :param stride: stride length (in seconds)\n",
    "    :param n_mfcc: number of desired mel frequency cepstral coefficients\n",
    "    :returns : spectogram of mfcc+elta features\n",
    "    \"\"\"\n",
    "    \n",
    "    #specifty parameters of mfcc\n",
    "    n_fft = int(win_size*sr)\n",
    "    hop_length = int(stride*sr)\n",
    "    \n",
    "    # get mfcc, deltas \n",
    "    MFCC = librosa.feature.mfcc(y=waveform,\n",
    "                                n_mfcc=n_mfcc,\n",
    "                                n_fft=n_fft,\n",
    "                                hop_length=hop_length)\n",
    "    \n",
    "    MFCC_delta = librosa.feature.delta(MFCC)\n",
    "    #librosa.display.specshow(MFCC, x_axis=\"time\")\n",
    "    #plt.colorbar()\n",
    "    #plt.xlabel('time')\n",
    "    #plt.ylabel('MFCC')\n",
    "    \n",
    "    MFCC = MFCC\n",
    "    MFCC_delta = MFCC_delta\n",
    "    \n",
    "    features = np.vstack((MFCC, MFCC_delta))\n",
    "    print(\"features shape is : {}\".format(features.shape))\n",
    "    return features"
   ]
  },
  {
   "cell_type": "code",
   "execution_count": 62,
   "metadata": {},
   "outputs": [
    {
     "data": {
      "text/plain": [
       "(64, 364)"
      ]
     },
     "execution_count": 62,
     "metadata": {},
     "output_type": "execute_result"
    }
   ],
   "source": [
    "\n",
    "def extract_mel_bins(waveform, sr, win_size=0.025, stride=0.01, n_mels= 64):\n",
    "    '''extract MEL frequency bins as features of the waveform'''\n",
    "    mel_spectorgram = torchaudio.transforms.MelSpectrogram(sample_rate=sr,\n",
    "                                                    n_fft=int(win_size*sr),\n",
    "                                                   hop_length=int(stride*sr),\n",
    "                                                   n_mels= n_mels)\n",
    "    features = mel_spectorgram(waveform)\n",
    "    features = np.array(features)\n",
    "    features = np.squeeze(features, axis=0)\n",
    "    return features\n",
    "\n",
    "waveform, sr = torchaudio.load(\"/home/bashar/Study/Research_SER/Notebook/Ses03F_impro01_F004.wav\")\n",
    "extract_mel_bins(waveform, sr).shape"
   ]
  },
  {
   "cell_type": "markdown",
   "metadata": {},
   "source": [
    "next, we want to process waveforms inside a torch dataset, the following class extracts waveforms from json file, resamples each waveform into a unified sample rate, and fix the length of all wave forms by zero padding. Finally, it extracts features of the waveform by calling a feature extraction user-defined function (here we used mel-bins features which are extracted by caling 'extract_mel_bins')"
   ]
  },
  {
   "cell_type": "code",
   "execution_count": 49,
   "metadata": {},
   "outputs": [],
   "source": [
    "\n",
    "\n",
    "SAMPLE_RATE=22050\n",
    "NUM_SAMPLES = 3 * SAMPLE_RATE\n",
    "JSON_PATH = \"../Datasets/IEMOCAP/json/data.json\"\n",
    "\n",
    "class SER_dataset(Dataset):\n",
    "    def pad_cut_if_necessary(self, waveform):\n",
    "        # check length of wave form\n",
    "        wav_length = waveform.shape[1]\n",
    "        \n",
    "        # if longer, cut the waveform\n",
    "        if wav_length > self.num_samples:\n",
    "            waveform = waveform[:, :self.num_samples]\n",
    "            \n",
    "        # if shorter, pad the waveform with zeros\n",
    "        if wav_length < self.num_samples:\n",
    "            num_missing_samples = self.num_samples - wav_length\n",
    "            waveform = torch.nn.functional.pad(waveform, (0, num_missing_samples))\n",
    "   \n",
    "        return waveform\n",
    "  \n",
    "    \n",
    "    def __init__(self, json_config_file, transformation,  num_samples=NUM_SAMPLES):\n",
    "        \"\"\"\n",
    "        :param json_config_file : .json file which includes tracks paths and their labels\n",
    "        :param transformation : a function pointer that will be used to extract features from input audio signals\n",
    "        :num_samples : total number of samples allowed for the input\"\"\"\n",
    "        with open(json_config_file, 'r') as pf:\n",
    "            data = json.load(pf)\n",
    "            \n",
    "        self.filenames = data[\"filenames\"]\n",
    "        self.labels = data[\"labels\"]\n",
    "        self.num_samples = num_samples\n",
    "        self.transformation = transformation\n",
    "        \n",
    "    def __getitem__(self, index):\n",
    "        \n",
    "        # get waveform from current index\n",
    "        waveform, sr = torchaudio.load(self.filenames[index])\n",
    "        resampler = torchaudio.transforms.Resample(orig_freq=sr, new_freq= SAMPLE_RATE)\n",
    "        waveform = resampler(waveform)\n",
    "        waveform = (waveform)\n",
    "        waveform = self.pad_cut_if_necessary(waveform)\n",
    "        features = self.transformation(waveform, sr)\n",
    "        \n",
    "        # get label of the current index\n",
    "        label = self.labels[index]\n",
    "        \n",
    "        return features, label\n",
    "        \n",
    "        \n",
    "    def __len__(self):\n",
    "        return len(self.filenames)\n",
    "            \n",
    "\n"
   ]
  },
  {
   "cell_type": "code",
   "execution_count": 59,
   "metadata": {
    "scrolled": true
   },
   "outputs": [
    {
     "name": "stdout",
     "output_type": "stream",
     "text": [
      "each input is of shape: (64, 414)\n"
     ]
    }
   ],
   "source": [
    "# define our set of (features, targets) \n",
    "my_set = SER_dataset(JSON_PATH, transformation=extract_mel_bins)\n",
    "print(f\"each input is of shape: {my_set[0][0].shape}\")"
   ]
  },
  {
   "cell_type": "markdown",
   "metadata": {},
   "source": [
    "## section 2. build a transformer encoder classifier\n",
    "\n",
    "### this section covers the architecture for the classifier. Which is based on a transformer model that uses multi-head attention.\n",
    "\n",
    "this layer applies 1d convolution on the spectogram, to get the embeddings of each frame"
   ]
  },
  {
   "cell_type": "code",
   "execution_count": 66,
   "metadata": {
    "scrolled": false
   },
   "outputs": [
    {
     "name": "stdout",
     "output_type": "stream",
     "text": [
      "----------------------------------------------------------------\n",
      "        Layer (type)               Output Shape         Param #\n",
      "================================================================\n",
      "            Conv2d-1           [-1, 128, 1, 40]         131,200\n",
      "================================================================\n",
      "Total params: 131,200\n",
      "Trainable params: 131,200\n",
      "Non-trainable params: 0\n",
      "----------------------------------------------------------------\n",
      "Input size (MB): 0.10\n",
      "Forward/backward pass size (MB): 0.04\n",
      "Params size (MB): 0.50\n",
      "Estimated Total Size (MB): 0.64\n",
      "----------------------------------------------------------------\n"
     ]
    }
   ],
   "source": [
    "\n",
    "\n",
    "class input_embedding(nn.Module):\n",
    "    def __init__(self, d_input, d_model, stride=10, kernel_size=16):\n",
    "        \"\"\"\n",
    "        :param d_input: feature-vector dimension of input spectogram\n",
    "        :param d_model: output dimension of the embeddings\n",
    "        \"\"\"\n",
    "        super().__init__()\n",
    "        self.proj = nn.Conv2d(1, d_model, kernel_size=(d_input, kernel_size), stride=stride)\n",
    "\n",
    "    def forward(self, x):\n",
    "        \"\"\"\n",
    "        :param x: input of shape [B, d_input, t_length]\n",
    "        return : output of shape [B, max_length, d_model]\"\"\"\n",
    "        # we need to add new axis for number of channels\n",
    "        x = torch.unsqueeze(x, dim=1)\n",
    "        # we apply the projection layer\n",
    "        x = self.proj(x)\n",
    "        # we remove the height dimension, because it is always equal to 1 \n",
    "        x = torch.squeeze(x, dim=2)\n",
    "        #x = torch.einsum('bij->bji', x)\n",
    "        x = x.transpose(1,2)\n",
    "        return x\n",
    "\n",
    "    \n",
    "inp = torch.randn([5, 64, 414])\n",
    "embed = input_embedding(64, 128)\n",
    "summary(embed, (64, 414))"
   ]
  },
  {
   "cell_type": "markdown",
   "metadata": {},
   "source": [
    "now we will work on positional encoding PE, which is added to the output of the projection layer (AKA embeddings) to capture the positional information of the input audio.\n",
    "the theory behind this positional encoding techniques is derived from the paper \"Attention is all you need\"\n",
    "\n",
    "PE(pos,2i) = sin(pos/(1000^(2i/d_model))\n",
    "PE(pos,2i+1) = cos(pos/(1000^(2i/d_model))"
   ]
  },
  {
   "cell_type": "code",
   "execution_count": 70,
   "metadata": {},
   "outputs": [],
   "source": [
    "# positional encoding :\n",
    "from torchsummary import summary\n",
    "\n",
    "class PositionalEncoding( nn.Module ):\n",
    "    \"\"\"\n",
    "    a nn.Module wrapper to extract Position embeddings with a specific dimnesionality\n",
    "    \"\"\"\n",
    "    def __init__(self,d_model, max_length):\n",
    "        \"\"\"\n",
    "        :param max_length: number of columns of input embedding \n",
    "        :param d_model: number of rows to represent input features of the transformer\n",
    "        \"\"\"\n",
    "        super().__init__()\n",
    "        self.max_length = max_length\n",
    "        self.d_model = d_model\n",
    "        \n",
    "    def forward(self, x):\n",
    "        # get the length of sequency from input\n",
    "        seq_len = x.shape[1]\n",
    "        \n",
    "        even_i = torch.arange(0, self.d_model, 2).float()\n",
    "        even_den = pow(10000, even_i/self.d_model)\n",
    "        pos = torch.arange(seq_len).float().unsqueeze(1)\n",
    "        \n",
    "        even_pe = torch.sin(pos/even_den)\n",
    "        odd_pe = torch.cos(pos/even_den)\n",
    "        stacked = torch.stack([even_pe, odd_pe], dim=2)\n",
    "        stacked = torch.flatten(stacked, start_dim=1, end_dim=2)\n",
    "        return stacked\n",
    " \n",
    "pe = PositionalEncoding(128,40)\n"
   ]
  },
  {
   "cell_type": "markdown",
   "metadata": {},
   "source": [
    "Next, we will build the Transformer encoder blocks, which consists of multi-headed attention layer, followed by a feed-forward layer (as in the paper \"Attention is all you need\")\n"
   ]
  },
  {
   "cell_type": "code",
   "execution_count": 72,
   "metadata": {},
   "outputs": [],
   "source": [
    "\n",
    "\n",
    "class MultiHeadSplit(nn.Module):\n",
    "    \"\"\"split the input data into multiple heads using linear layers\"\"\"\n",
    "    def __init__(self, d_model:int, d_k:int, heads:int= 8, bias=False):\n",
    "        \"\"\"\n",
    "        :param d_model: input feature dimension\n",
    "        :param d_k: dimension of each head \n",
    "        :param heads: number of heads to split each input sample into\n",
    "        :param bias: whether to apply bias term into linear layer\"\"\"\n",
    "        super().__init__()\n",
    "        # copy params into local attributes of the class\n",
    "        self.d_model = d_model\n",
    "        self.d_k = d_k\n",
    "        self.heads = heads\n",
    "\n",
    "        # assert that numbers check\n",
    "        assert(self.d_k * self.heads == self.d_model), \"heads number isn't compatible with dimesions!\"\n",
    "        \n",
    "        \n",
    "        # create a linear layer to create the different heads\n",
    "        self.linear = nn.Linear(d_model, heads * d_k, bias=bias)\n",
    "        \n",
    "    def forward(self, x):\n",
    "        \"\"\"x is of shape [-1, seq_length, d_model]\"\"\"\n",
    "        # change the view of the input so that trainable features (d_model) is the last\n",
    "        shape = x.shape[:-1]\n",
    "        # split x into multiple heads\n",
    "        x = self.linear(x)\n",
    "        \n",
    "        \n",
    "        # split last dimension into two \n",
    "        x = x.view(*shape, self.heads, self.d_k)\n",
    "        x = torch.transpose(x, -2, -3)\n",
    "        \n",
    "\n",
    "        # return output\n",
    "        return x\n",
    "    "
   ]
  },
  {
   "cell_type": "code",
   "execution_count": 73,
   "metadata": {
    "scrolled": true
   },
   "outputs": [
    {
     "name": "stdout",
     "output_type": "stream",
     "text": [
      "----------------------------------------------------------------\n",
      "        Layer (type)               Output Shape         Param #\n",
      "================================================================\n",
      "            Linear-1              [-1, 40, 128]          16,384\n",
      "================================================================\n",
      "Total params: 16,384\n",
      "Trainable params: 16,384\n",
      "Non-trainable params: 0\n",
      "----------------------------------------------------------------\n",
      "Input size (MB): 0.02\n",
      "Forward/backward pass size (MB): 0.04\n",
      "Params size (MB): 0.06\n",
      "Estimated Total Size (MB): 0.12\n",
      "----------------------------------------------------------------\n"
     ]
    }
   ],
   "source": [
    "mh = MultiHeadSplit(128, 16)\n",
    "summary(mh, (40, 128))"
   ]
  },
  {
   "cell_type": "markdown",
   "metadata": {},
   "source": [
    "next, we will create the scaled dot-product attention layer, which will be used to extract meaningful relations between different parts of the audio track"
   ]
  },
  {
   "cell_type": "code",
   "execution_count": 74,
   "metadata": {},
   "outputs": [],
   "source": [
    "class SelfAttention(nn.Module):\n",
    "    def __init__(self, d_model, heads, d_k, bias=False, dropout=0.1): # dropout is set randomly \n",
    "        super().__init__()\n",
    "        \n",
    "        self.d_model = d_model\n",
    "        self.heads = heads\n",
    "        self.d_k = d_k\n",
    "        \n",
    "        # split input into three matrecies : q: query, k: key, v: value using linear layers\n",
    "        self.query = MultiHeadSplit(d_model, d_k, heads, bias)\n",
    "        self.key = MultiHeadSplit(d_model, d_k, heads, bias)\n",
    "        self.value = MultiHeadSplit(d_model, d_k, heads, bias)\n",
    "        \n",
    "        # define necessery activations\n",
    "        self.softmax = nn.Softmax(dim= -1) # the input to the softmax has shape (t_dim, t_dim)\n",
    "        \n",
    "        self.dropout = nn.Dropout(dropout)\n",
    "        \n",
    "        self.scale = 1 / (self.d_k)**(0.5)\n",
    "        \n",
    "        output = nn\n",
    "        \n",
    "    def get_att(self, q, k):\n",
    "        \"\"\"\n",
    "        q shape (B, h, q_len, d)\n",
    "        k shape (B, h, k_len, d)\n",
    "        \n",
    "        :return : output of shape (B, h, q_len, k_len)\n",
    "            \"\"\"\n",
    "        out = torch.einsum('bhqd,bhkd->bhqk', q, k)\n",
    "        return out\n",
    "    \n",
    "    \n",
    "    def forward(self, x, mask=None):\n",
    "        \"\"\"\n",
    "        :param x : input of shape (B, seq_length, d_model) \n",
    "        :param mask : mask of shape (B, seq_length)\n",
    "        \n",
    "        :return output of shape (B, seq_length, d_v)\n",
    "        \"\"\"\n",
    "                \n",
    "        q = self.query(x)\n",
    "        k = self.key(x)\n",
    "        v = self.value(x)\n",
    "        \n",
    "        # apply matmul\n",
    "        att = self.get_att(q, k)\n",
    "        \n",
    "        # apply scale\n",
    "        att = att * self.scale\n",
    "        \n",
    "      \n",
    "        \n",
    "        # apply mask\n",
    "        if mask is not None:\n",
    "            att = att.masked_fill(mask==0, -1 * torch.inf)\n",
    "            \n",
    "        # apply softmax\n",
    "        att = self.softmax(att)\n",
    "        \n",
    "        # apply matmul\n",
    "        att = torch.einsum('bhqk,bhkd->bqhd', att, v)\n",
    "        \n",
    "        # concatenate all heads in one (bhqd -> bq(d*h)\n",
    "        shape = att.shape[:-2]\n",
    "\n",
    "        out = att.reshape(*shape, att.shape[-1] * att.shape[-2])\n",
    "\n",
    "        \n",
    "        return out\n",
    "    \n",
    "  \n",
    "        \n",
    "from torchsummary import summary \n",
    "\n",
    "\n",
    "        "
   ]
  },
  {
   "cell_type": "code",
   "execution_count": 75,
   "metadata": {},
   "outputs": [
    {
     "name": "stdout",
     "output_type": "stream",
     "text": [
      "----------------------------------------------------------------\n",
      "        Layer (type)               Output Shape         Param #\n",
      "================================================================\n",
      "            Linear-1             [-1, 40, 1024]         132,096\n",
      "           Dropout-2             [-1, 40, 1024]               0\n",
      "            Linear-3              [-1, 40, 128]         131,200\n",
      "================================================================\n",
      "Total params: 263,296\n",
      "Trainable params: 263,296\n",
      "Non-trainable params: 0\n",
      "----------------------------------------------------------------\n",
      "Input size (MB): 0.02\n",
      "Forward/backward pass size (MB): 0.66\n",
      "Params size (MB): 1.00\n",
      "Estimated Total Size (MB): 1.69\n",
      "----------------------------------------------------------------\n"
     ]
    }
   ],
   "source": [
    "# next we will implement the feed forward layer \n",
    "\n",
    "class FeedForward(nn.Module):\n",
    "    def __init__(self, d_model, n_hidden, dropout=0.1):\n",
    "        \"\"\"\n",
    "        :param n_hidden number of feed forward features in the hidden layer\"\"\"\n",
    "        super().__init__()\n",
    "        self.d_model = d_model\n",
    "        self.n_hidden = n_hidden\n",
    "        \n",
    "        # First linear layer\n",
    "        self.linear1 = nn.Linear(d_model, n_hidden)\n",
    "        \n",
    "        #Second Linear layer\n",
    "        self.linear2 = nn.Linear(n_hidden, d_model)\n",
    "        \n",
    "        #dropout layer\n",
    "        self.dropout = nn.Dropout(dropout)\n",
    "        \n",
    "    def forward(self, x):\n",
    "        # apply first linear\n",
    "        x = self.linear1(x)\n",
    "        x = nn.functional.relu(x)\n",
    "        x = self.dropout(x)\n",
    "        x = self.linear2(x)\n",
    "        return x\n",
    "    \n",
    "\n",
    "ff = FeedForward(128, 1024)\n",
    "summary(ff, (40, 128))"
   ]
  },
  {
   "cell_type": "code",
   "execution_count": 77,
   "metadata": {},
   "outputs": [
    {
     "name": "stdout",
     "output_type": "stream",
     "text": [
      "----------------------------------------------------------------\n",
      "        Layer (type)               Output Shape         Param #\n",
      "================================================================\n",
      "         LayerNorm-1              [-1, 40, 128]             256\n",
      "================================================================\n",
      "Total params: 256\n",
      "Trainable params: 256\n",
      "Non-trainable params: 0\n",
      "----------------------------------------------------------------\n",
      "Input size (MB): 0.02\n",
      "Forward/backward pass size (MB): 0.04\n",
      "Params size (MB): 0.00\n",
      "Estimated Total Size (MB): 0.06\n",
      "----------------------------------------------------------------\n"
     ]
    }
   ],
   "source": [
    "class LayerNorm(nn.Module):\n",
    "    def __init__(self, input_shape):\n",
    "        super().__init__()\n",
    "        self.norm = nn.LayerNorm(normalized_shape=input_shape)\n",
    "    \n",
    "    def forward(self, x):\n",
    "        return self.norm(x)\n",
    "    \n",
    "n = LayerNorm((128))\n",
    "summary(n, (40,128))"
   ]
  },
  {
   "cell_type": "code",
   "execution_count": 78,
   "metadata": {},
   "outputs": [
    {
     "name": "stdout",
     "output_type": "stream",
     "text": [
      "----------------------------------------------------------------\n",
      "        Layer (type)               Output Shape         Param #\n",
      "================================================================\n",
      "            Linear-1              [-1, 40, 128]          16,384\n",
      "    MultiHeadSplit-2            [-1, 8, 40, 16]               0\n",
      "            Linear-3              [-1, 40, 128]          16,384\n",
      "    MultiHeadSplit-4            [-1, 8, 40, 16]               0\n",
      "            Linear-5              [-1, 40, 128]          16,384\n",
      "    MultiHeadSplit-6            [-1, 8, 40, 16]               0\n",
      "           Softmax-7            [-1, 8, 40, 40]               0\n",
      "     SelfAttention-8              [-1, 40, 128]               0\n",
      "         LayerNorm-9              [-1, 40, 128]             256\n",
      "        LayerNorm-10              [-1, 40, 128]               0\n",
      "          Dropout-11              [-1, 40, 128]               0\n",
      "           Linear-12             [-1, 40, 1024]         132,096\n",
      "          Dropout-13             [-1, 40, 1024]               0\n",
      "           Linear-14              [-1, 40, 128]         131,200\n",
      "      FeedForward-15              [-1, 40, 128]               0\n",
      "        LayerNorm-16              [-1, 40, 128]             256\n",
      "        LayerNorm-17              [-1, 40, 128]               0\n",
      "          Dropout-18              [-1, 40, 128]               0\n",
      "================================================================\n",
      "Total params: 312,960\n",
      "Trainable params: 312,960\n",
      "Non-trainable params: 0\n",
      "----------------------------------------------------------------\n",
      "Input size (MB): 0.02\n",
      "Forward/backward pass size (MB): 1.31\n",
      "Params size (MB): 1.19\n",
      "Estimated Total Size (MB): 2.52\n",
      "----------------------------------------------------------------\n"
     ]
    }
   ],
   "source": [
    "# now we implement the encoder block \n",
    "\n",
    "class EncoderBlock(nn.Module):\n",
    "    \"\"\"\n",
    "    This layer consists of self attention layer, followed by add and norm layer, then a feed forward layer, followed by add and norm layer \"\"\"\n",
    "    def __init__(self, d_model, d_k, heads, n_hidden=1024, dropout=0.1, bias=False):\n",
    "        super().__init__()\n",
    "        self.d_model = d_model\n",
    "        self.heads = heads\n",
    "        self.d_k = d_k\n",
    "        self.bias = bias\n",
    "        \n",
    "        # define a self attention layer\n",
    "        self.self_attention = SelfAttention(d_model, heads, d_k, bias, dropout)\n",
    "        \n",
    "        # norm layer\n",
    "        self.norm1 = LayerNorm(d_model)\n",
    "        self.norm2 = LayerNorm(d_model)\n",
    "        \n",
    "        # feed forward layer\n",
    "        self.ff = FeedForward(d_model, n_hidden=n_hidden,dropout=dropout)\n",
    "        self.dropout = nn.Dropout(dropout)\n",
    "        \n",
    "    \n",
    "    def forward(self, x):\n",
    "        \"\"\"\n",
    "        x has a shape of (B, seq_length, d_model)\"\"\"\n",
    "        \n",
    "        att = self.self_attention(x)\n",
    "        \n",
    "        x = self.norm1(x + att)\n",
    "        \n",
    "        x = self.dropout(x)\n",
    "        ff = self.ff(x)\n",
    "        \n",
    "        x = self.norm2(x + ff)\n",
    "        x = self.dropout(x)\n",
    "        \n",
    "        return x\n",
    "        \n",
    "        \n",
    "        \n",
    "enc = EncoderBlock(128, 16, 8)\n",
    "\n",
    "summary(enc, (40, 128))\n",
    "        "
   ]
  },
  {
   "cell_type": "code",
   "execution_count": 79,
   "metadata": {},
   "outputs": [
    {
     "name": "stdout",
     "output_type": "stream",
     "text": [
      "----------------------------------------------------------------\n",
      "        Layer (type)               Output Shape         Param #\n",
      "================================================================\n",
      "            Linear-1              [-1, 40, 128]          16,384\n",
      "    MultiHeadSplit-2            [-1, 8, 40, 16]               0\n",
      "            Linear-3              [-1, 40, 128]          16,384\n",
      "    MultiHeadSplit-4            [-1, 8, 40, 16]               0\n",
      "            Linear-5              [-1, 40, 128]          16,384\n",
      "    MultiHeadSplit-6            [-1, 8, 40, 16]               0\n",
      "           Softmax-7            [-1, 8, 40, 40]               0\n",
      "     SelfAttention-8              [-1, 40, 128]               0\n",
      "         LayerNorm-9              [-1, 40, 128]             256\n",
      "        LayerNorm-10              [-1, 40, 128]               0\n",
      "          Dropout-11              [-1, 40, 128]               0\n",
      "           Linear-12             [-1, 40, 1024]         132,096\n",
      "          Dropout-13             [-1, 40, 1024]               0\n",
      "           Linear-14              [-1, 40, 128]         131,200\n",
      "      FeedForward-15              [-1, 40, 128]               0\n",
      "        LayerNorm-16              [-1, 40, 128]             256\n",
      "        LayerNorm-17              [-1, 40, 128]               0\n",
      "          Dropout-18              [-1, 40, 128]               0\n",
      "     EncoderBlock-19              [-1, 40, 128]               0\n",
      "================================================================\n",
      "Total params: 312,960\n",
      "Trainable params: 312,960\n",
      "Non-trainable params: 0\n",
      "----------------------------------------------------------------\n",
      "Input size (MB): 0.02\n",
      "Forward/backward pass size (MB): 1.35\n",
      "Params size (MB): 1.19\n",
      "Estimated Total Size (MB): 2.56\n",
      "----------------------------------------------------------------\n"
     ]
    }
   ],
   "source": [
    "# the encoder sonsists of a positional embedding block + sequence of n encoder blocks \n",
    "\n",
    "\n",
    "class Encoder(nn.Module):\n",
    "    def __init__(self, max_length, d_model, d_k, heads,n_encoders=1, n_hidden=1024, dropout=0.1, bias=False ):\n",
    "        super().__init__()\n",
    "        \n",
    "        # self.pe = PositionalEncoding(d_model, max_length)\n",
    "      \n",
    "        self.enc_blocks = nn.ModuleList([\n",
    "            EncoderBlock(d_model, d_k, heads, n_hidden, dropout, bias) for i in range(n_encoders)\n",
    "        ])\n",
    "        self.dropout = nn.Dropout(dropout)\n",
    "        \n",
    "        \n",
    "    def forward(self, x): \n",
    "        \"\"\"x is of shape (B, seq_length, d_model)\n",
    "        :return output of shape (B, seq_length, d_model)\"\"\"\n",
    "\n",
    "        seq_length = x[1]\n",
    "        #pe = self.pe()[:seq_length,:]\n",
    "        # add positional information \n",
    "        x = x #+ pe\n",
    "        \n",
    "        # inject new input to encoder blocks \n",
    "        \n",
    "        for layer in self.enc_blocks:\n",
    "            x = layer(x)        \n",
    "        return x\n",
    "        \n",
    "enc = Encoder(40, 128, 16,8)\n",
    "summary(enc, (40,128))\n",
    "        "
   ]
  },
  {
   "cell_type": "code",
   "execution_count": 80,
   "metadata": {},
   "outputs": [
    {
     "name": "stdout",
     "output_type": "stream",
     "text": [
      "----------------------------------------------------------------\n",
      "        Layer (type)               Output Shape         Param #\n",
      "================================================================\n",
      "           Flatten-1              [-1, 128, 40]               0\n",
      "         AvgPool1d-2               [-1, 128, 1]               0\n",
      "            Linear-3                    [-1, 5]             645\n",
      "           Softmax-4                    [-1, 5]               0\n",
      "================================================================\n",
      "Total params: 645\n",
      "Trainable params: 645\n",
      "Non-trainable params: 0\n",
      "----------------------------------------------------------------\n",
      "Input size (MB): 0.02\n",
      "Forward/backward pass size (MB): 0.04\n",
      "Params size (MB): 0.00\n",
      "Estimated Total Size (MB): 0.06\n",
      "----------------------------------------------------------------\n"
     ]
    }
   ],
   "source": [
    "# the full architechture consists of : input embedding + encoder + global average \n",
    "# we will experiment with global averaging and cls token [like BERT]\n",
    "\n",
    "\n",
    "class Classifier(nn.Module):\n",
    "    def __init__(self, n_classes, d_model, seq_length):\n",
    "        super().__init__()\n",
    "        self.average_pooling = nn.AvgPool1d(kernel_size=seq_length, stride=seq_length)\n",
    "        self.flat = nn.Flatten(start_dim = 1, end_dim=2)\n",
    "        self.linear = nn.Linear(d_model, n_classes)\n",
    "        self.softmax = nn.Softmax(dim=-1)\n",
    "        \n",
    "    def forward(self, x):\n",
    "       \n",
    "        # add channel dimension \n",
    "        x = x.unsqueeze(dim=1)\n",
    "      \n",
    "        # transpose input \n",
    "        x = x.transpose(-1,-2)\n",
    "        \n",
    "        # flatten input \n",
    "        x = self.flat(x)\n",
    "    \n",
    "        # apply avgPool\n",
    "        x = self.average_pooling(x)\n",
    "        \n",
    "        # remove added dimension\n",
    "        x = x.squeeze(dim=-1)\n",
    "        \n",
    "        # apply linear layer \n",
    "        x = self.linear(x)\n",
    "        \n",
    "        # apply softmax \n",
    "        x = self.softmax(x)\n",
    "        \n",
    "        return x\n",
    "    \n",
    "cls = Classifier(5, 128, 40)\n",
    "summary(cls, (40, 128))\n",
    "        "
   ]
  },
  {
   "cell_type": "code",
   "execution_count": 82,
   "metadata": {},
   "outputs": [],
   "source": [
    "# the full arch consists of : input embedding + encoder + global average \n",
    "# we will experiment with global averaging and cls token [like BERT]\n",
    "\n",
    "\n",
    "class Classifier2(nn.Module):\n",
    "    def __init__(self, n_classes, d_model, seq_length):\n",
    "        super().__init__()\n",
    "        self.linear = nn.Linear(d_model, n_classes)\n",
    "        self.softmax = nn.Softmax(dim=-1)\n",
    "        \n",
    "    def forward(self, x):\n",
    "        # apply linear layer \n",
    "        x = self.linear(x)\n",
    "        \n",
    "        # apply softmax \n",
    "        x = self.softmax(x)\n",
    "        \n",
    "        return x\n",
    "    \n",
    "cls2 = Classifier2(10, 128, 40)\n",
    "\n"
   ]
  },
  {
   "cell_type": "code",
   "execution_count": 83,
   "metadata": {},
   "outputs": [],
   "source": [
    "# we will encapsulate the whole work under one class \n",
    "\n",
    "class SERT(nn.Module):\n",
    "    def __init__(self,d_input,\n",
    "                 max_length,\n",
    "                 d_model,\n",
    "                 d_k,\n",
    "                 heads,\n",
    "                 n_classes,\n",
    "                 n_encoders=1,\n",
    "                 n_hidden=1024,\n",
    "                 dropout=0.1,\n",
    "                 bias=False,\n",
    "                 stride=10,\n",
    "                 kernel_size=16 ):\n",
    "        super().__init__()\n",
    "        self.input = input_embedding(d_input, d_model, stride, kernel_size)\n",
    "        self.enc_layers = nn.ModuleList([\n",
    "            Encoder(max_length,\n",
    "                    d_model,\n",
    "                    d_k,\n",
    "                    heads,\n",
    "                    n_encoders=1,\n",
    "                    n_hidden=1024,\n",
    "                    dropout=0.1,\n",
    "                    bias=False) for _ in range(n_encoders)\n",
    "        ])\n",
    "        self.output= Classifier(n_classes, d_model, max_length)\n",
    "    \n",
    "    def forward(self, x):\n",
    "        x = self.input(x)\n",
    "        for layer in self.enc_layers:\n",
    "            x = layer(x)\n",
    "            \n",
    "        x = self.output(x)\n",
    "        return x\n",
    "        \n",
    "sert_model = SERT(d_input=64, max_length=35, d_model=128,d_k=16,heads=8,n_classes=9)\n",
    "\n",
    "        "
   ]
  },
  {
   "cell_type": "markdown",
   "metadata": {},
   "source": [
    "## section 3. training the model on initial hyperparameters:\n"
   ]
  },
  {
   "cell_type": "code",
   "execution_count": 100,
   "metadata": {
    "scrolled": true
   },
   "outputs": [
    {
     "name": "stdout",
     "output_type": "stream",
     "text": [
      "dataset is split as follows:\n",
      "\n",
      "train : 4566(0.64)\n",
      "\n",
      "test : 1427(0.36)\n",
      "\n",
      "validation : 1142(0.16)\n",
      "cpu\n"
     ]
    },
    {
     "data": {
      "text/plain": [
       "143"
      ]
     },
     "execution_count": 100,
     "metadata": {},
     "output_type": "execute_result"
    }
   ],
   "source": [
    "# first we will split the dataset into train_test_validation sets \n",
    "\n",
    "\n",
    "def train_test_val_split(dataset, train_test,train_val):\n",
    "    \"\"\"splits dataset into 3 groups:\n",
    "    1- train dataset (size = train_test*train_val)\n",
    "    2 - test dataset (size = (1-train_test))\n",
    "    3- validation dataset (size = (train_test * (1-train_val))\n",
    "    \"\"\"\n",
    "\n",
    "    train_ds, test_ds = torchdata.random_split(dataset, [int(train_test * len(dataset)), len(dataset) - int(train_test * len(dataset))])\n",
    "    train_ds, val_ds = torchdata.random_split(train_ds, [int(train_val * len(train_ds)), len(train_ds) - int(train_val * len(train_ds))])\n",
    "    train_size = train_test * train_val\n",
    "    test_size = 1 - train_size\n",
    "    val_size = train_test * (1 - train_val)\n",
    "    print(\"dataset is split as follows:\\n\\ntrain : {}({})\\n\\ntest : {}({})\\n\\nvalidation : {}({})\".format(len(train_ds), round(train_size,2), len(test_ds), round(test_size, 2), len(val_ds), round(val_size, 2)))\n",
    "    return train_ds, test_ds, val_ds\n",
    "\n",
    "\n",
    "train,test,val = train_test_val_split(my_set, 0.8, 0.8)\n",
    "\n",
    "# after splitting, we will define the dataloader\n",
    "train_dataloader = torchdata.DataLoader(dataset=train, batch_size=32, shuffle=True)\n",
    "validation_dataloader = torchdata.DataLoader(dataset=val, batch_size=32, shuffle=True)\n",
    "test_dataloader = torchdata.DataLoader(dataset=test, batch_size=32, shuffle=True)\n",
    "\n",
    "\n",
    "# specify the optimizer (adam) and the loss function\n",
    "optimizer = torch.optim.Adam(sert_model.parameters(), lr=0.0001)\n",
    "\n",
    "\n",
    "loss_fn = nn.CrossEntropyLoss()\n",
    "device = 'cuda' if torch.cuda.is_available() else 'cpu'\n",
    "print(device)\n",
    "\n",
    "sert_model = sert_model.to(device)\n"
   ]
  },
  {
   "cell_type": "markdown",
   "metadata": {},
   "source": [
    "### building training loop:"
   ]
  },
  {
   "cell_type": "code",
   "execution_count": 158,
   "metadata": {},
   "outputs": [],
   "source": [
    "\n",
    "\n",
    "def model_train(model,train_dataset, val_dataset, num_epochs, device, loss_fn, metric, optimizer, ext_dir):\n",
    "    \"\"\"returns information about the model, the results of training\n",
    "    :param ext_dir: directory to save the state of the best performing model according to the metric function\n",
    "    \"\"\"\n",
    "    \n",
    "    summary = {\n",
    "        'model name': model.__class__.__name__,\n",
    "        'device': device,\n",
    "        'loss_fn': loss_fn,\n",
    "        'metric': metric, \n",
    "        'optimizer':optimizer,\n",
    "        'num_epochs' : num_epochs,\n",
    "        'train_loss' :[],\n",
    "        'train_accuracy': [],\n",
    "        'val_loss' :[],\n",
    "        'val_accuracy' :[],\n",
    "        'steps' :[]\n",
    "    }\n",
    "    \n",
    "    batch_size = train_dataset.batch_size\n",
    "    \n",
    "    print(f\"start training with :\\n total epochs: {num_epochs}\\n batch size: {train_dataset.batch_size}\\n total batches: {len(train_dataset)}\")\n",
    "    \n",
    "    # set a timer to measure the training time \n",
    "    start_timer = time.time()\n",
    "    \n",
    "    \n",
    "    model = model.to(device)\n",
    "    \n",
    "    # log stride = 10% of the number of batches to loop through, this is used to print results while training \n",
    "    log_stride = int(0.1 * len(train_dataset))\n",
    "    \n",
    "    # add model graph to tensorboard\n",
    "    batch, _ = next(iter(train_dataset))\n",
    "    writer = SummaryWriter(f\"runs/log_sert_model\")\n",
    "    writer.add_graph(model, batch.to(device))\n",
    "    \n",
    "    \n",
    "    # save the best performing model\n",
    "    max_acc = 0.0\n",
    "    \n",
    "    \n",
    "    for epoch in tqdm(range(num_epochs)):\n",
    "        # we will calculate average loss per epoch, average accuracy per epoch\n",
    "        loss_epoch = 0.0\n",
    "        accuracy_epoch = 0.0\n",
    "        \n",
    "        # average metrics per log_stride\n",
    "        loss_stride = 0.0\n",
    "        correct_stride = 0\n",
    "        \n",
    "        # save metrics for logging\n",
    "        train_loss =[]\n",
    "        train_acc = []\n",
    "        eval_loss = []\n",
    "        eval_acc = []\n",
    "            \n",
    "        model.train()\n",
    "        for it, (X, y) in enumerate(train_dataset):\n",
    "            X = X.to(device)\n",
    "            y = y.to(device)\n",
    "            \n",
    "            y_pred = model(X)\n",
    "            \n",
    "            # calculate the loss\n",
    "            loss =loss_fn(y_pred, y)\n",
    "            loss_stride += loss\n",
    "            train_loss.append((loss, epoch, it))\n",
    "            \n",
    "            \n",
    "            # get correct predictions\n",
    "            predictions = torch.argmax(y_pred, dim=1)\n",
    "           \n",
    "            \n",
    "            correct_stride += (y == predictions).sum().item()\n",
    "            train_acc.append(((correct_stride)/batch_size, epoch, it))\n",
    "            \n",
    "            # zero grad the optim.\n",
    "            optimizer.zero_grad()\n",
    "            \n",
    "            loss.backward()\n",
    "            \n",
    "            optimizer.step()\n",
    "            \n",
    "            if (it + 1) % log_stride == 0:\n",
    "                # print results\n",
    "                print(f\"epoch[{epoch + 1}/{num_epochs}] | batch[{it + 1}/{len(train_dataset)}] train_loss: {loss_stride/ (log_stride):.4f} | accuracy: {correct_stride/(log_stride * batch_size)}\")\n",
    "                \n",
    "                # send scalars to tensorboard\n",
    "                writer.add_scalar('train_loss',loss_stride/ (log_stride), epoch * len(train_dataset) + it)\n",
    "                writer.add_scalar('train accuracy', correct_stride/(log_stride * batch_size), epoch * len(train_dataset) + it)\n",
    "                \n",
    "                \n",
    "                \n",
    "                # reset parameters\n",
    "                loss_epoch += loss_stride\n",
    "                accuracy_epoch += correct_stride\n",
    "                loss_stride = 0.0\n",
    "                correct_stride = 0\n",
    "        \n",
    "        print(\"validation:\")\n",
    "        model.eval()\n",
    "        loss_val = 0.0\n",
    "        acc_val = 0.0\n",
    "        \n",
    "        \n",
    "        with torch.inference_mode() :\n",
    "            correct = 0\n",
    "            for (X_test, y_test) in val_dataset:\n",
    "                X_test = X_test.to(device)\n",
    "                y_test = y_test.to(device)\n",
    "                \n",
    "                y_pred = model(X_test)\n",
    "                loss_val += loss_fn(y_pred, y_test)\n",
    "                predictions = torch.argmax(y_pred, dim=1)\n",
    "                \n",
    "                correct += (predictions == y_test).sum().item()\n",
    "                \n",
    "        eval_loss.append((loss_val / len(val_dataset), epoch))\n",
    "        eval_acc.append(((correct/(len(val_dataset) * batch_size)), epoch))\n",
    "            \n",
    "        train_accuracy = accuracy_epoch/(batch_size * len(train_dataset))\n",
    "        print(f\"epoch: {epoch} summary:\\n train_loss: {loss_epoch / len(train_dataset)}, validation loss: {loss_val / len(val_dataset)}, train accuracy: {accuracy_epoch/(len(train_dataset) * batch_size)}\")\n",
    "        \n",
    "        summary['train_loss'].append(loss_epoch.item() / len(train_dataset))\n",
    "\n",
    "        writer.add_scalar('validation_loss',eval_loss[-1][0],  epoch)\n",
    "        writer.add_scalar('validation_accuracy',eval_acc[-1][0],  epoch)\n",
    "        \n",
    "        summary['val_loss'].append(eval_loss[-1][0].item())\n",
    "        summary['val_accuracy'].append(correct/(len(val_dataset) * batch_size))\n",
    "        summary['steps'].append(epoch)\n",
    "        summary['train_accuracy'].append(accuracy_epoch/(batch_size * len(train_dataset)))\n",
    "\n",
    "        if train_accuracy > max_acc:\n",
    "            max_acc = train_accuracy\n",
    "            torch.save(model.state_dict(), ext_dir)\n",
    "    \n",
    "    total_time = (time.time() - start_timer)\n",
    "    summary['total_time'] = total_time\n",
    "    writer.close()\n",
    "    return summary"
   ]
  },
  {
   "cell_type": "code",
   "execution_count": 169,
   "metadata": {
    "scrolled": true
   },
   "outputs": [
    {
     "name": "stdout",
     "output_type": "stream",
     "text": [
      "dataset is split as follows:\n",
      "\n",
      "train : 4566(0.64)\n",
      "\n",
      "test : 1427(0.36)\n",
      "\n",
      "validation : 1142(0.16)\n",
      "start training with :\n",
      " total epochs: 20\n",
      " batch size: 64\n",
      " total batches: 72\n"
     ]
    },
    {
     "name": "stderr",
     "output_type": "stream",
     "text": [
      "\r",
      "  0%|                                                    | 0/20 [00:00<?, ?it/s]"
     ]
    },
    {
     "name": "stdout",
     "output_type": "stream",
     "text": [
      "epoch[1/20] | batch[7/72] train_loss: 2.2020 | accuracy: 0.10714285714285714\n",
      "epoch[1/20] | batch[14/72] train_loss: 2.1966 | accuracy: 0.15178571428571427\n",
      "epoch[1/20] | batch[21/72] train_loss: 2.1854 | accuracy: 0.20535714285714285\n",
      "epoch[1/20] | batch[28/72] train_loss: 2.1819 | accuracy: 0.16071428571428573\n",
      "epoch[1/20] | batch[35/72] train_loss: 2.1772 | accuracy: 0.19419642857142858\n",
      "epoch[1/20] | batch[42/72] train_loss: 2.1635 | accuracy: 0.27901785714285715\n",
      "epoch[1/20] | batch[49/72] train_loss: 2.1557 | accuracy: 0.2700892857142857\n",
      "epoch[1/20] | batch[56/72] train_loss: 2.1480 | accuracy: 0.28794642857142855\n",
      "epoch[1/20] | batch[63/72] train_loss: 2.1410 | accuracy: 0.3125\n",
      "epoch[1/20] | batch[70/72] train_loss: 2.1396 | accuracy: 0.29910714285714285\n",
      "validation:\n"
     ]
    },
    {
     "name": "stderr",
     "output_type": "stream",
     "text": [
      "\r",
      "  5%|██▏                                         | 1/20 [00:25<07:55, 25.03s/it]"
     ]
    },
    {
     "name": "stdout",
     "output_type": "stream",
     "text": [
      "epoch: 0 summary:\n",
      " train_loss: 2.108841896057129, validation loss: 2.1283209323883057, train accuracy: 0.2204861111111111\n",
      "epoch[2/20] | batch[7/72] train_loss: 2.1212 | accuracy: 0.2857142857142857\n",
      "epoch[2/20] | batch[14/72] train_loss: 2.1277 | accuracy: 0.27901785714285715\n",
      "epoch[2/20] | batch[21/72] train_loss: 2.1100 | accuracy: 0.3236607142857143\n",
      "epoch[2/20] | batch[28/72] train_loss: 2.1115 | accuracy: 0.29017857142857145\n",
      "epoch[2/20] | batch[35/72] train_loss: 2.1172 | accuracy: 0.2700892857142857\n",
      "epoch[2/20] | batch[42/72] train_loss: 2.0946 | accuracy: 0.2857142857142857\n",
      "epoch[2/20] | batch[49/72] train_loss: 2.0898 | accuracy: 0.30357142857142855\n",
      "epoch[2/20] | batch[56/72] train_loss: 2.0811 | accuracy: 0.33482142857142855\n",
      "epoch[2/20] | batch[63/72] train_loss: 2.0944 | accuracy: 0.3013392857142857\n",
      "epoch[2/20] | batch[70/72] train_loss: 2.0971 | accuracy: 0.29910714285714285\n",
      "validation:\n"
     ]
    },
    {
     "name": "stderr",
     "output_type": "stream",
     "text": [
      "\r",
      " 10%|████▍                                       | 2/20 [00:56<08:36, 28.70s/it]"
     ]
    },
    {
     "name": "stdout",
     "output_type": "stream",
     "text": [
      "epoch: 1 summary:\n",
      " train_loss: 2.0460047721862793, validation loss: 2.0875234603881836, train accuracy: 0.2890625\n",
      "epoch[3/20] | batch[7/72] train_loss: 2.0775 | accuracy: 0.32589285714285715\n",
      "epoch[3/20] | batch[14/72] train_loss: 2.0912 | accuracy: 0.30580357142857145\n",
      "epoch[3/20] | batch[21/72] train_loss: 2.0732 | accuracy: 0.33035714285714285\n",
      "epoch[3/20] | batch[28/72] train_loss: 2.0825 | accuracy: 0.3125\n",
      "epoch[3/20] | batch[35/72] train_loss: 2.0924 | accuracy: 0.28794642857142855\n",
      "epoch[3/20] | batch[42/72] train_loss: 2.0675 | accuracy: 0.30580357142857145\n",
      "epoch[3/20] | batch[49/72] train_loss: 2.0641 | accuracy: 0.3325892857142857\n",
      "epoch[3/20] | batch[56/72] train_loss: 2.0543 | accuracy: 0.3482142857142857\n",
      "epoch[3/20] | batch[63/72] train_loss: 2.0718 | accuracy: 0.30357142857142855\n",
      "epoch[3/20] | batch[70/72] train_loss: 2.0764 | accuracy: 0.31026785714285715\n",
      "validation:\n"
     ]
    },
    {
     "name": "stderr",
     "output_type": "stream",
     "text": [
      "\r",
      " 15%|██████▌                                     | 3/20 [01:27<08:28, 29.91s/it]"
     ]
    },
    {
     "name": "stdout",
     "output_type": "stream",
     "text": [
      "epoch: 2 summary:\n",
      " train_loss: 2.01745343208313, validation loss: 2.069279670715332, train accuracy: 0.3075086805555556\n",
      "epoch[4/20] | batch[7/72] train_loss: 2.0583 | accuracy: 0.3392857142857143\n",
      "epoch[4/20] | batch[14/72] train_loss: 2.0769 | accuracy: 0.31026785714285715\n",
      "epoch[4/20] | batch[21/72] train_loss: 2.0541 | accuracy: 0.3482142857142857\n",
      "epoch[4/20] | batch[28/72] train_loss: 2.0693 | accuracy: 0.3325892857142857\n",
      "epoch[4/20] | batch[35/72] train_loss: 2.0786 | accuracy: 0.30580357142857145\n",
      "epoch[4/20] | batch[42/72] train_loss: 2.0541 | accuracy: 0.3169642857142857\n",
      "epoch[4/20] | batch[49/72] train_loss: 2.0488 | accuracy: 0.35267857142857145\n",
      "epoch[4/20] | batch[56/72] train_loss: 2.0380 | accuracy: 0.36160714285714285\n",
      "epoch[4/20] | batch[63/72] train_loss: 2.0575 | accuracy: 0.3125\n",
      "epoch[4/20] | batch[70/72] train_loss: 2.0632 | accuracy: 0.3125\n",
      "validation:\n"
     ]
    },
    {
     "name": "stderr",
     "output_type": "stream",
     "text": [
      "\r",
      " 20%|████████▊                                   | 4/20 [01:58<08:07, 30.46s/it]"
     ]
    },
    {
     "name": "stdout",
     "output_type": "stream",
     "text": [
      "epoch: 3 summary:\n",
      " train_loss: 2.002669334411621, validation loss: 2.057671546936035, train accuracy: 0.3200954861111111\n",
      "epoch[5/20] | batch[7/72] train_loss: 2.0450 | accuracy: 0.3549107142857143\n",
      "epoch[5/20] | batch[14/72] train_loss: 2.0684 | accuracy: 0.3013392857142857\n",
      "epoch[5/20] | batch[21/72] train_loss: 2.0407 | accuracy: 0.36607142857142855\n",
      "epoch[5/20] | batch[28/72] train_loss: 2.0609 | accuracy: 0.32589285714285715\n",
      "epoch[5/20] | batch[35/72] train_loss: 2.0702 | accuracy: 0.30580357142857145\n",
      "epoch[5/20] | batch[42/72] train_loss: 2.0462 | accuracy: 0.328125\n",
      "epoch[5/20] | batch[49/72] train_loss: 2.0369 | accuracy: 0.36160714285714285\n",
      "epoch[5/20] | batch[56/72] train_loss: 2.0274 | accuracy: 0.3705357142857143\n",
      "epoch[5/20] | batch[63/72] train_loss: 2.0460 | accuracy: 0.3236607142857143\n",
      "epoch[5/20] | batch[70/72] train_loss: 2.0560 | accuracy: 0.3236607142857143\n",
      "validation:\n"
     ]
    },
    {
     "name": "stderr",
     "output_type": "stream",
     "text": [
      "\r",
      " 25%|███████████                                 | 5/20 [02:30<07:41, 30.78s/it]"
     ]
    },
    {
     "name": "stdout",
     "output_type": "stream",
     "text": [
      "epoch: 4 summary:\n",
      " train_loss: 1.9928452968597412, validation loss: 2.0497374534606934, train accuracy: 0.3268229166666667\n",
      "epoch[6/20] | batch[7/72] train_loss: 2.0375 | accuracy: 0.359375\n",
      "epoch[6/20] | batch[14/72] train_loss: 2.0624 | accuracy: 0.30357142857142855\n",
      "epoch[6/20] | batch[21/72] train_loss: 2.0311 | accuracy: 0.3638392857142857\n",
      "epoch[6/20] | batch[28/72] train_loss: 2.0547 | accuracy: 0.31919642857142855\n",
      "epoch[6/20] | batch[35/72] train_loss: 2.0630 | accuracy: 0.3236607142857143\n",
      "epoch[6/20] | batch[42/72] train_loss: 2.0414 | accuracy: 0.33035714285714285\n",
      "epoch[6/20] | batch[49/72] train_loss: 2.0289 | accuracy: 0.375\n",
      "epoch[6/20] | batch[56/72] train_loss: 2.0188 | accuracy: 0.37723214285714285\n",
      "epoch[6/20] | batch[63/72] train_loss: 2.0383 | accuracy: 0.3325892857142857\n",
      "epoch[6/20] | batch[70/72] train_loss: 2.0485 | accuracy: 0.328125\n",
      "validation:\n"
     ]
    },
    {
     "name": "stderr",
     "output_type": "stream",
     "text": [
      "\r",
      " 30%|█████████████▏                              | 6/20 [03:01<07:12, 30.91s/it]"
     ]
    },
    {
     "name": "stdout",
     "output_type": "stream",
     "text": [
      "epoch: 5 summary:\n",
      " train_loss: 1.9857373237609863, validation loss: 2.04314923286438, train accuracy: 0.3318142361111111\n",
      "epoch[7/20] | batch[7/72] train_loss: 2.0310 | accuracy: 0.35267857142857145\n",
      "epoch[7/20] | batch[14/72] train_loss: 2.0589 | accuracy: 0.30357142857142855\n",
      "epoch[7/20] | batch[21/72] train_loss: 2.0235 | accuracy: 0.35714285714285715\n",
      "epoch[7/20] | batch[28/72] train_loss: 2.0503 | accuracy: 0.3169642857142857\n",
      "epoch[7/20] | batch[35/72] train_loss: 2.0589 | accuracy: 0.31919642857142855\n",
      "epoch[7/20] | batch[42/72] train_loss: 2.0358 | accuracy: 0.33035714285714285\n",
      "epoch[7/20] | batch[49/72] train_loss: 2.0222 | accuracy: 0.37723214285714285\n",
      "epoch[7/20] | batch[56/72] train_loss: 2.0133 | accuracy: 0.37723214285714285\n",
      "epoch[7/20] | batch[63/72] train_loss: 2.0327 | accuracy: 0.328125\n",
      "epoch[7/20] | batch[70/72] train_loss: 2.0443 | accuracy: 0.33035714285714285\n",
      "validation:\n"
     ]
    },
    {
     "name": "stderr",
     "output_type": "stream",
     "text": [
      "\r",
      " 35%|███████████████▍                            | 7/20 [03:32<06:42, 30.97s/it]"
     ]
    },
    {
     "name": "stdout",
     "output_type": "stream",
     "text": [
      "epoch: 6 summary:\n",
      " train_loss: 1.9804922342300415, validation loss: 2.0390467643737793, train accuracy: 0.3298611111111111\n",
      "epoch[8/20] | batch[7/72] train_loss: 2.0256 | accuracy: 0.3482142857142857\n",
      "epoch[8/20] | batch[14/72] train_loss: 2.0557 | accuracy: 0.3080357142857143\n",
      "epoch[8/20] | batch[21/72] train_loss: 2.0164 | accuracy: 0.3638392857142857\n",
      "epoch[8/20] | batch[28/72] train_loss: 2.0471 | accuracy: 0.328125\n",
      "epoch[8/20] | batch[35/72] train_loss: 2.0553 | accuracy: 0.3125\n",
      "epoch[8/20] | batch[42/72] train_loss: 2.0319 | accuracy: 0.34375\n",
      "epoch[8/20] | batch[49/72] train_loss: 2.0154 | accuracy: 0.38392857142857145\n",
      "epoch[8/20] | batch[56/72] train_loss: 2.0097 | accuracy: 0.3705357142857143\n",
      "epoch[8/20] | batch[63/72] train_loss: 2.0278 | accuracy: 0.3325892857142857\n",
      "epoch[8/20] | batch[70/72] train_loss: 2.0397 | accuracy: 0.33035714285714285\n",
      "validation:\n"
     ]
    },
    {
     "name": "stderr",
     "output_type": "stream",
     "text": [
      "\r",
      " 40%|█████████████████▌                          | 8/20 [04:03<06:12, 31.07s/it]"
     ]
    },
    {
     "name": "stdout",
     "output_type": "stream",
     "text": [
      "epoch: 7 summary:\n",
      " train_loss: 1.9760117530822754, validation loss: 2.034187078475952, train accuracy: 0.3326822916666667\n",
      "epoch[9/20] | batch[7/72] train_loss: 2.0215 | accuracy: 0.3482142857142857\n",
      "epoch[9/20] | batch[14/72] train_loss: 2.0528 | accuracy: 0.30580357142857145\n",
      "epoch[9/20] | batch[21/72] train_loss: 2.0108 | accuracy: 0.36607142857142855\n",
      "epoch[9/20] | batch[28/72] train_loss: 2.0438 | accuracy: 0.31919642857142855\n",
      "epoch[9/20] | batch[35/72] train_loss: 2.0511 | accuracy: 0.31026785714285715\n",
      "epoch[9/20] | batch[42/72] train_loss: 2.0283 | accuracy: 0.3392857142857143\n",
      "epoch[9/20] | batch[49/72] train_loss: 2.0104 | accuracy: 0.3705357142857143\n",
      "epoch[9/20] | batch[56/72] train_loss: 2.0048 | accuracy: 0.37723214285714285\n",
      "epoch[9/20] | batch[63/72] train_loss: 2.0237 | accuracy: 0.33482142857142855\n",
      "epoch[9/20] | batch[70/72] train_loss: 2.0347 | accuracy: 0.33035714285714285\n",
      "validation:\n"
     ]
    },
    {
     "name": "stderr",
     "output_type": "stream",
     "text": [
      "\r",
      " 45%|███████████████████▊                        | 9/20 [04:35<05:42, 31.12s/it]"
     ]
    },
    {
     "name": "stdout",
     "output_type": "stream",
     "text": [
      "epoch: 8 summary:\n",
      " train_loss: 1.9718413352966309, validation loss: 2.0306107997894287, train accuracy: 0.3307291666666667\n",
      "epoch[10/20] | batch[7/72] train_loss: 2.0172 | accuracy: 0.34598214285714285\n",
      "epoch[10/20] | batch[14/72] train_loss: 2.0490 | accuracy: 0.296875\n",
      "epoch[10/20] | batch[21/72] train_loss: 2.0061 | accuracy: 0.3705357142857143\n",
      "epoch[10/20] | batch[28/72] train_loss: 2.0407 | accuracy: 0.3125\n",
      "epoch[10/20] | batch[35/72] train_loss: 2.0477 | accuracy: 0.3125\n",
      "epoch[10/20] | batch[42/72] train_loss: 2.0262 | accuracy: 0.3482142857142857\n",
      "epoch[10/20] | batch[49/72] train_loss: 2.0041 | accuracy: 0.38392857142857145\n",
      "epoch[10/20] | batch[56/72] train_loss: 2.0018 | accuracy: 0.38169642857142855\n",
      "epoch[10/20] | batch[63/72] train_loss: 2.0162 | accuracy: 0.3392857142857143\n",
      "epoch[10/20] | batch[70/72] train_loss: 2.0274 | accuracy: 0.3392857142857143\n",
      "validation:\n"
     ]
    },
    {
     "name": "stderr",
     "output_type": "stream",
     "text": [
      "\r",
      " 50%|█████████████████████▌                     | 10/20 [05:06<05:11, 31.16s/it]"
     ]
    },
    {
     "name": "stdout",
     "output_type": "stream",
     "text": [
      "epoch: 9 summary:\n",
      " train_loss: 1.9674290418624878, validation loss: 2.02424955368042, train accuracy: 0.3335503472222222\n",
      "epoch[11/20] | batch[7/72] train_loss: 2.0123 | accuracy: 0.3482142857142857\n",
      "epoch[11/20] | batch[14/72] train_loss: 2.0443 | accuracy: 0.3013392857142857\n",
      "epoch[11/20] | batch[21/72] train_loss: 2.0006 | accuracy: 0.36607142857142855\n",
      "epoch[11/20] | batch[28/72] train_loss: 2.0370 | accuracy: 0.3125\n",
      "epoch[11/20] | batch[35/72] train_loss: 2.0422 | accuracy: 0.33482142857142855\n",
      "epoch[11/20] | batch[42/72] train_loss: 2.0244 | accuracy: 0.35267857142857145\n",
      "epoch[11/20] | batch[49/72] train_loss: 1.9976 | accuracy: 0.37723214285714285\n",
      "epoch[11/20] | batch[56/72] train_loss: 1.9972 | accuracy: 0.390625\n",
      "epoch[11/20] | batch[63/72] train_loss: 2.0104 | accuracy: 0.35267857142857145\n",
      "epoch[11/20] | batch[70/72] train_loss: 2.0199 | accuracy: 0.33482142857142855\n",
      "validation:\n"
     ]
    },
    {
     "name": "stderr",
     "output_type": "stream",
     "text": [
      "\r",
      " 55%|███████████████████████▋                   | 11/20 [05:35<04:35, 30.59s/it]"
     ]
    },
    {
     "name": "stdout",
     "output_type": "stream",
     "text": [
      "epoch: 10 summary:\n",
      " train_loss: 1.96250319480896, validation loss: 2.0184104442596436, train accuracy: 0.3374565972222222\n",
      "epoch[12/20] | batch[7/72] train_loss: 2.0070 | accuracy: 0.34598214285714285\n",
      "epoch[12/20] | batch[14/72] train_loss: 2.0388 | accuracy: 0.31026785714285715\n",
      "epoch[12/20] | batch[21/72] train_loss: 1.9949 | accuracy: 0.38169642857142855\n",
      "epoch[12/20] | batch[28/72] train_loss: 2.0339 | accuracy: 0.328125\n",
      "epoch[12/20] | batch[35/72] train_loss: 2.0398 | accuracy: 0.3392857142857143\n",
      "epoch[12/20] | batch[42/72] train_loss: 2.0218 | accuracy: 0.36160714285714285\n",
      "epoch[12/20] | batch[49/72] train_loss: 1.9902 | accuracy: 0.40848214285714285\n",
      "epoch[12/20] | batch[56/72] train_loss: 1.9928 | accuracy: 0.3950892857142857\n",
      "epoch[12/20] | batch[63/72] train_loss: 2.0054 | accuracy: 0.3638392857142857\n",
      "epoch[12/20] | batch[70/72] train_loss: 2.0130 | accuracy: 0.359375\n",
      "validation:\n"
     ]
    },
    {
     "name": "stderr",
     "output_type": "stream",
     "text": [
      "\r",
      " 60%|█████████████████████████▊                 | 12/20 [06:03<03:58, 29.79s/it]"
     ]
    },
    {
     "name": "stdout",
     "output_type": "stream",
     "text": [
      "epoch: 11 summary:\n",
      " train_loss: 1.95781409740448, validation loss: 2.0126495361328125, train accuracy: 0.3493923611111111\n",
      "epoch[13/20] | batch[7/72] train_loss: 2.0020 | accuracy: 0.35714285714285715\n",
      "epoch[13/20] | batch[14/72] train_loss: 2.0331 | accuracy: 0.32142857142857145\n",
      "epoch[13/20] | batch[21/72] train_loss: 1.9901 | accuracy: 0.38392857142857145\n",
      "epoch[13/20] | batch[28/72] train_loss: 2.0313 | accuracy: 0.328125\n",
      "epoch[13/20] | batch[35/72] train_loss: 2.0369 | accuracy: 0.34375\n",
      "epoch[13/20] | batch[42/72] train_loss: 2.0207 | accuracy: 0.35714285714285715\n",
      "epoch[13/20] | batch[49/72] train_loss: 1.9854 | accuracy: 0.4174107142857143\n",
      "epoch[13/20] | batch[56/72] train_loss: 1.9906 | accuracy: 0.39285714285714285\n",
      "epoch[13/20] | batch[63/72] train_loss: 2.0007 | accuracy: 0.375\n",
      "epoch[13/20] | batch[70/72] train_loss: 2.0071 | accuracy: 0.3794642857142857\n",
      "validation:\n"
     ]
    },
    {
     "name": "stderr",
     "output_type": "stream",
     "text": [
      "\r",
      " 65%|███████████████████████████▉               | 13/20 [06:31<03:25, 29.30s/it]"
     ]
    },
    {
     "name": "stdout",
     "output_type": "stream",
     "text": [
      "epoch: 12 summary:\n",
      " train_loss: 1.9539637565612793, validation loss: 2.008204221725464, train accuracy: 0.35546875\n",
      "epoch[14/20] | batch[7/72] train_loss: 1.9979 | accuracy: 0.36830357142857145\n",
      "epoch[14/20] | batch[14/72] train_loss: 2.0290 | accuracy: 0.3325892857142857\n",
      "epoch[14/20] | batch[21/72] train_loss: 1.9860 | accuracy: 0.39285714285714285\n",
      "epoch[14/20] | batch[28/72] train_loss: 2.0289 | accuracy: 0.328125\n",
      "epoch[14/20] | batch[35/72] train_loss: 2.0336 | accuracy: 0.3482142857142857\n",
      "epoch[14/20] | batch[42/72] train_loss: 2.0178 | accuracy: 0.3549107142857143\n",
      "epoch[14/20] | batch[49/72] train_loss: 1.9815 | accuracy: 0.4263392857142857\n",
      "epoch[14/20] | batch[56/72] train_loss: 1.9869 | accuracy: 0.4017857142857143\n",
      "epoch[14/20] | batch[63/72] train_loss: 1.9973 | accuracy: 0.38392857142857145\n",
      "epoch[14/20] | batch[70/72] train_loss: 2.0026 | accuracy: 0.3794642857142857\n",
      "validation:\n"
     ]
    },
    {
     "name": "stderr",
     "output_type": "stream",
     "text": [
      "\r",
      " 70%|██████████████████████████████             | 14/20 [06:59<02:53, 28.92s/it]"
     ]
    },
    {
     "name": "stdout",
     "output_type": "stream",
     "text": [
      "epoch: 13 summary:\n",
      " train_loss: 1.9504151344299316, validation loss: 2.004056215286255, train accuracy: 0.361328125\n",
      "epoch[15/20] | batch[7/72] train_loss: 1.9944 | accuracy: 0.38392857142857145\n",
      "epoch[15/20] | batch[14/72] train_loss: 2.0258 | accuracy: 0.33035714285714285\n",
      "epoch[15/20] | batch[21/72] train_loss: 1.9829 | accuracy: 0.39732142857142855\n",
      "epoch[15/20] | batch[28/72] train_loss: 2.0264 | accuracy: 0.3392857142857143\n",
      "epoch[15/20] | batch[35/72] train_loss: 2.0316 | accuracy: 0.34375\n",
      "epoch[15/20] | batch[42/72] train_loss: 2.0146 | accuracy: 0.3638392857142857\n",
      "epoch[15/20] | batch[49/72] train_loss: 1.9773 | accuracy: 0.4263392857142857\n",
      "epoch[15/20] | batch[56/72] train_loss: 1.9843 | accuracy: 0.4017857142857143\n",
      "epoch[15/20] | batch[63/72] train_loss: 1.9947 | accuracy: 0.38839285714285715\n",
      "epoch[15/20] | batch[70/72] train_loss: 1.9977 | accuracy: 0.375\n",
      "validation:\n"
     ]
    },
    {
     "name": "stderr",
     "output_type": "stream",
     "text": [
      "\r",
      " 75%|████████████████████████████████▎          | 15/20 [07:27<02:23, 28.70s/it]"
     ]
    },
    {
     "name": "stdout",
     "output_type": "stream",
     "text": [
      "epoch: 14 summary:\n",
      " train_loss: 1.9473446607589722, validation loss: 2.001546859741211, train accuracy: 0.3645833333333333\n",
      "epoch[16/20] | batch[7/72] train_loss: 1.9905 | accuracy: 0.3861607142857143\n",
      "epoch[16/20] | batch[14/72] train_loss: 2.0224 | accuracy: 0.34151785714285715\n",
      "epoch[16/20] | batch[21/72] train_loss: 1.9795 | accuracy: 0.39955357142857145\n",
      "epoch[16/20] | batch[28/72] train_loss: 2.0241 | accuracy: 0.33705357142857145\n",
      "epoch[16/20] | batch[35/72] train_loss: 2.0296 | accuracy: 0.33705357142857145\n",
      "epoch[16/20] | batch[42/72] train_loss: 2.0129 | accuracy: 0.36607142857142855\n",
      "epoch[16/20] | batch[49/72] train_loss: 1.9741 | accuracy: 0.4263392857142857\n",
      "epoch[16/20] | batch[56/72] train_loss: 1.9828 | accuracy: 0.4107142857142857\n",
      "epoch[16/20] | batch[63/72] train_loss: 1.9910 | accuracy: 0.3861607142857143\n",
      "epoch[16/20] | batch[70/72] train_loss: 1.9937 | accuracy: 0.3861607142857143\n",
      "validation:\n"
     ]
    },
    {
     "name": "stderr",
     "output_type": "stream",
     "text": [
      "\r",
      " 80%|██████████████████████████████████▍        | 16/20 [07:56<01:54, 28.55s/it]"
     ]
    },
    {
     "name": "stdout",
     "output_type": "stream",
     "text": [
      "epoch: 15 summary:\n",
      " train_loss: 1.9445027112960815, validation loss: 1.9990477561950684, train accuracy: 0.3671875\n",
      "epoch[17/20] | batch[7/72] train_loss: 1.9880 | accuracy: 0.3861607142857143\n",
      "epoch[17/20] | batch[14/72] train_loss: 2.0200 | accuracy: 0.35044642857142855\n",
      "epoch[17/20] | batch[21/72] train_loss: 1.9776 | accuracy: 0.4017857142857143\n",
      "epoch[17/20] | batch[28/72] train_loss: 2.0223 | accuracy: 0.3325892857142857\n",
      "epoch[17/20] | batch[35/72] train_loss: 2.0273 | accuracy: 0.33482142857142855\n",
      "epoch[17/20] | batch[42/72] train_loss: 2.0115 | accuracy: 0.3705357142857143\n",
      "epoch[17/20] | batch[49/72] train_loss: 1.9706 | accuracy: 0.43526785714285715\n",
      "epoch[17/20] | batch[56/72] train_loss: 1.9804 | accuracy: 0.4107142857142857\n",
      "epoch[17/20] | batch[63/72] train_loss: 1.9888 | accuracy: 0.38392857142857145\n",
      "epoch[17/20] | batch[70/72] train_loss: 1.9916 | accuracy: 0.390625\n",
      "validation:\n"
     ]
    },
    {
     "name": "stderr",
     "output_type": "stream",
     "text": [
      "\r",
      " 85%|████████████████████████████████████▌      | 17/20 [08:24<01:25, 28.56s/it]"
     ]
    },
    {
     "name": "stdout",
     "output_type": "stream",
     "text": [
      "epoch: 16 summary:\n",
      " train_loss: 1.9423171281814575, validation loss: 1.996803879737854, train accuracy: 0.369140625\n",
      "epoch[18/20] | batch[7/72] train_loss: 1.9848 | accuracy: 0.39285714285714285\n",
      "epoch[18/20] | batch[14/72] train_loss: 2.0179 | accuracy: 0.35044642857142855\n",
      "epoch[18/20] | batch[21/72] train_loss: 1.9758 | accuracy: 0.40625\n",
      "epoch[18/20] | batch[28/72] train_loss: 2.0199 | accuracy: 0.33482142857142855\n",
      "epoch[18/20] | batch[35/72] train_loss: 2.0238 | accuracy: 0.34151785714285715\n",
      "epoch[18/20] | batch[42/72] train_loss: 2.0091 | accuracy: 0.37276785714285715\n",
      "epoch[18/20] | batch[49/72] train_loss: 1.9689 | accuracy: 0.43526785714285715\n",
      "epoch[18/20] | batch[56/72] train_loss: 1.9782 | accuracy: 0.4107142857142857\n",
      "epoch[18/20] | batch[63/72] train_loss: 1.9852 | accuracy: 0.38839285714285715\n",
      "epoch[18/20] | batch[70/72] train_loss: 1.9871 | accuracy: 0.38839285714285715\n",
      "validation:\n"
     ]
    },
    {
     "name": "stderr",
     "output_type": "stream",
     "text": [
      "\r",
      " 90%|██████████████████████████████████████▋    | 18/20 [08:52<00:56, 28.46s/it]"
     ]
    },
    {
     "name": "stdout",
     "output_type": "stream",
     "text": [
      "epoch: 17 summary:\n",
      " train_loss: 1.9396449327468872, validation loss: 1.9945564270019531, train accuracy: 0.3715277777777778\n",
      "epoch[19/20] | batch[7/72] train_loss: 1.9829 | accuracy: 0.390625\n",
      "epoch[19/20] | batch[14/72] train_loss: 2.0161 | accuracy: 0.35267857142857145\n",
      "epoch[19/20] | batch[21/72] train_loss: 1.9734 | accuracy: 0.40401785714285715\n",
      "epoch[19/20] | batch[28/72] train_loss: 2.0194 | accuracy: 0.33705357142857145\n",
      "epoch[19/20] | batch[35/72] train_loss: 2.0224 | accuracy: 0.34598214285714285\n",
      "epoch[19/20] | batch[42/72] train_loss: 2.0070 | accuracy: 0.37276785714285715\n",
      "epoch[19/20] | batch[49/72] train_loss: 1.9658 | accuracy: 0.43973214285714285\n",
      "epoch[19/20] | batch[56/72] train_loss: 1.9756 | accuracy: 0.41517857142857145\n",
      "epoch[19/20] | batch[63/72] train_loss: 1.9833 | accuracy: 0.39732142857142855\n",
      "epoch[19/20] | batch[70/72] train_loss: 1.9852 | accuracy: 0.40401785714285715\n",
      "validation:\n"
     ]
    },
    {
     "name": "stderr",
     "output_type": "stream",
     "text": [
      "\r",
      " 95%|████████████████████████████████████████▊  | 19/20 [09:21<00:28, 28.44s/it]"
     ]
    },
    {
     "name": "stdout",
     "output_type": "stream",
     "text": [
      "epoch: 18 summary:\n",
      " train_loss: 1.9377329349517822, validation loss: 1.9930542707443237, train accuracy: 0.3752170138888889\n",
      "epoch[20/20] | batch[7/72] train_loss: 1.9804 | accuracy: 0.40848214285714285\n",
      "epoch[20/20] | batch[14/72] train_loss: 2.0136 | accuracy: 0.35267857142857145\n",
      "epoch[20/20] | batch[21/72] train_loss: 1.9714 | accuracy: 0.40625\n",
      "epoch[20/20] | batch[28/72] train_loss: 2.0183 | accuracy: 0.328125\n",
      "epoch[20/20] | batch[35/72] train_loss: 2.0194 | accuracy: 0.3392857142857143\n",
      "epoch[20/20] | batch[42/72] train_loss: 2.0058 | accuracy: 0.3705357142857143\n",
      "epoch[20/20] | batch[49/72] train_loss: 1.9630 | accuracy: 0.43973214285714285\n",
      "epoch[20/20] | batch[56/72] train_loss: 1.9747 | accuracy: 0.40848214285714285\n",
      "epoch[20/20] | batch[63/72] train_loss: 1.9808 | accuracy: 0.39732142857142855\n",
      "epoch[20/20] | batch[70/72] train_loss: 1.9832 | accuracy: 0.38839285714285715\n",
      "validation:\n"
     ]
    },
    {
     "name": "stderr",
     "output_type": "stream",
     "text": [
      "100%|███████████████████████████████████████████| 20/20 [09:49<00:00, 29.48s/it]"
     ]
    },
    {
     "name": "stdout",
     "output_type": "stream",
     "text": [
      "epoch: 19 summary:\n",
      " train_loss: 1.935753345489502, validation loss: 1.990588903427124, train accuracy: 0.3732638888888889\n"
     ]
    },
    {
     "name": "stderr",
     "output_type": "stream",
     "text": [
      "\n"
     ]
    }
   ],
   "source": [
    "model = SERT(64,40, d_model=128,d_k= 16, heads=8,n_classes=9,n_encoders=1,dropout=0.001, n_hidden=768)\n",
    "train,test,val = train_test_val_split(my_set, 0.8, 0.8)\n",
    "\n",
    "# after splitting, we will define the dataloader\n",
    "train_dataloader = torchdata.DataLoader(dataset=train, batch_size=64)\n",
    "validation_dataloader = torchdata.DataLoader(dataset=val, batch_size=64, shuffle=True)\n",
    "test_dataloader = torchdata.DataLoader(dataset=test, batch_size=32, shuffle=True)\n",
    "\n",
    "optimizer = torch.optim.Adam(model.parameters(), lr = 0.00001)\n",
    "summary = model_train(model, train_dataloader, validation_dataloader, num_epochs=20, device=device, loss_fn=loss_fn, metric=loss_fn, optimizer=optimizer, ext_dir='./model')\n"
   ]
  },
  {
   "cell_type": "code",
   "execution_count": 160,
   "metadata": {},
   "outputs": [
    {
     "data": {
      "text/plain": [
       "{'model name': 'SERT',\n",
       " 'device': 'cpu',\n",
       " 'loss_fn': CrossEntropyLoss(),\n",
       " 'metric': CrossEntropyLoss(),\n",
       " 'optimizer': Adam (\n",
       " Parameter Group 0\n",
       "     amsgrad: False\n",
       "     betas: (0.9, 0.999)\n",
       "     capturable: False\n",
       "     differentiable: False\n",
       "     eps: 1e-08\n",
       "     foreach: None\n",
       "     fused: None\n",
       "     lr: 0.0001\n",
       "     maximize: False\n",
       "     weight_decay: 0\n",
       " ),\n",
       " 'num_epochs': 20,\n",
       " 'train_loss': [2.0179000430636935,\n",
       "  1.9505057864718967,\n",
       "  1.9333839416503906,\n",
       "  1.922779295179579,\n",
       "  1.9160296122233074,\n",
       "  1.909674538506402,\n",
       "  1.903909683227539,\n",
       "  1.897999233669705,\n",
       "  1.891326692369249,\n",
       "  1.8842809465196397,\n",
       "  1.8771105872260199,\n",
       "  1.8693923950195312,\n",
       "  1.8630299038357205,\n",
       "  1.8560740152994792,\n",
       "  1.848904503716363,\n",
       "  1.8416222466362848,\n",
       "  1.8360303243001301,\n",
       "  1.8309849633110895,\n",
       "  1.8260067833794489,\n",
       "  1.819424523247613],\n",
       " 'train_accuracy': [0.2868923611111111,\n",
       "  0.3630642361111111,\n",
       "  0.3721788194444444,\n",
       "  0.3821614583333333,\n",
       "  0.3895399305555556,\n",
       "  0.3973524305555556,\n",
       "  0.40234375,\n",
       "  0.4114583333333333,\n",
       "  0.4192708333333333,\n",
       "  0.4264322916666667,\n",
       "  0.4361979166666667,\n",
       "  0.4474826388888889,\n",
       "  0.4548611111111111,\n",
       "  0.4639756944444444,\n",
       "  0.4711371527777778,\n",
       "  0.4774305555555556,\n",
       "  0.4835069444444444,\n",
       "  0.4854600694444444,\n",
       "  0.4954427083333333,\n",
       "  0.4995659722222222],\n",
       " 'val_loss': [2.018275260925293,\n",
       "  1.9974294900894165,\n",
       "  1.9883564710617065,\n",
       "  1.9827450513839722,\n",
       "  1.9796559810638428,\n",
       "  1.9778172969818115,\n",
       "  1.9743516445159912,\n",
       "  1.9731545448303223,\n",
       "  1.9723362922668457,\n",
       "  1.969857096672058,\n",
       "  1.9702568054199219,\n",
       "  1.9697034358978271,\n",
       "  1.966929316520691,\n",
       "  1.9738229513168335,\n",
       "  1.97081458568573,\n",
       "  1.9701472520828247,\n",
       "  1.9691954851150513,\n",
       "  1.9739816188812256,\n",
       "  1.9752106666564941,\n",
       "  1.975757122039795],\n",
       " 'val_accuracy': [0.3654513888888889,\n",
       "  0.375,\n",
       "  0.3845486111111111,\n",
       "  0.3836805555555556,\n",
       "  0.3914930555555556,\n",
       "  0.390625,\n",
       "  0.3932291666666667,\n",
       "  0.3967013888888889,\n",
       "  0.3932291666666667,\n",
       "  0.3949652777777778,\n",
       "  0.3914930555555556,\n",
       "  0.3949652777777778,\n",
       "  0.3958333333333333,\n",
       "  0.3871527777777778,\n",
       "  0.390625,\n",
       "  0.3880208333333333,\n",
       "  0.3932291666666667,\n",
       "  0.3888888888888889,\n",
       "  0.3845486111111111,\n",
       "  0.3819444444444444],\n",
       " 'steps': [0,\n",
       "  1,\n",
       "  2,\n",
       "  3,\n",
       "  4,\n",
       "  5,\n",
       "  6,\n",
       "  7,\n",
       "  8,\n",
       "  9,\n",
       "  10,\n",
       "  11,\n",
       "  12,\n",
       "  13,\n",
       "  14,\n",
       "  15,\n",
       "  16,\n",
       "  17,\n",
       "  18,\n",
       "  19],\n",
       " 'total_time': 633.20148229599}"
      ]
     },
     "execution_count": 160,
     "metadata": {},
     "output_type": "execute_result"
    }
   ],
   "source": [
    "summary"
   ]
  },
  {
   "cell_type": "code",
   "execution_count": 170,
   "metadata": {},
   "outputs": [
    {
     "data": {
      "image/png": "[encoded data removed]",
      "text/plain": [
       "<Figure size 640x480 with 1 Axes>"
      ]
     },
     "metadata": {},
     "output_type": "display_data"
    },
    {
     "data": {
      "text/plain": [
       "True"
      ]
     },
     "execution_count": 170,
     "metadata": {},
     "output_type": "execute_result"
    }
   ],
   "source": [
    "\n",
    "\n",
    "plt.plot(summary['steps'], summary['train_loss'])\n",
    "plt.plot(summary['steps'], summary['val_loss'])\n",
    "\n",
    "\n",
    "plt.xlabel('epoch')\n",
    "plt.ylabel('loss')\n",
    "\n",
    "plt.show()\n",
    "len(summary['steps']) == len(summary['train_loss'])"
   ]
  },
  {
   "cell_type": "code",
   "execution_count": 171,
   "metadata": {},
   "outputs": [
    {
     "data": {
      "image/png": "[encoded data removed]",
      "text/plain": [
       "<Figure size 640x480 with 1 Axes>"
      ]
     },
     "metadata": {},
     "output_type": "display_data"
    }
   ],
   "source": [
    "\n",
    "plt.plot(summary['steps'],summary['train_accuracy'],)\n",
    "plt.plot( summary['steps'],summary['val_accuracy'],)\n",
    "\n",
    "plt.xlabel('epoch')\n",
    "plt.ylabel('accuracy')\n",
    "\n",
    "plt.show()\n"
   ]
  },
  {
   "cell_type": "markdown",
   "metadata": {},
   "source": [
    "\n",
    "\n",
    "\n",
    "# 1. problem: small accuracy:\n",
    "## possible causes:\n",
    "\n",
    "- needs fine-tuning hyperparameters ( takes time )\n",
    "- features are not suitable ( takes experiments )\n",
    "\n",
    "\n",
    "\n"
   ]
  },
  {
   "cell_type": "markdown",
   "metadata": {},
   "source": [
    "### next step: optimize hyperparameters, and make comparisons among different decisions "
   ]
  }
 ],
 "metadata": {
  "kernelspec": {
   "display_name": "ML",
   "language": "python",
   "name": "ml"
  },
  "language_info": {
   "codemirror_mode": {
    "name": "ipython",
    "version": 3
   },
   "file_extension": ".py",
   "mimetype": "text/x-python",
   "name": "python",
   "nbconvert_exporter": "python",
   "pygments_lexer": "ipython3",
   "version": "3.8.0"
  }
 },
 "nbformat": 4,
 "nbformat_minor": 5
}
